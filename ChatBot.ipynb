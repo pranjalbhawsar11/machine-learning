{
  "nbformat": 4,
  "nbformat_minor": 0,
  "metadata": {
    "colab": {
      "name": "Copy of ChatBot.ipynb",
      "provenance": [],
      "collapsed_sections": []
    },
    "kernelspec": {
      "name": "python3",
      "display_name": "Python 3"
    }
  },
  "cells": [
    {
      "cell_type": "code",
      "metadata": {
        "id": "Rgg89LAwkd1o",
        "colab_type": "code",
        "outputId": "14f33120-2a4a-43e3-f505-d7006b4590b7",
        "colab": {
          "base_uri": "https://localhost:8080/",
          "height": 1000
        }
      },
      "source": [
        "!pip install chatterbot"
      ],
      "execution_count": 0,
      "outputs": [
        {
          "output_type": "stream",
          "text": [
            "Collecting chatterbot\n",
            "\u001b[?25l  Downloading https://files.pythonhosted.org/packages/6c/0e/dac0d82f34f86bf509cf5ef3e2dfc5aa7d444bd843a2330ceb7d854f84f2/ChatterBot-1.0.5-py2.py3-none-any.whl (67kB)\n",
            "\r\u001b[K     |████▉                           | 10kB 19.3MB/s eta 0:00:01\r\u001b[K     |█████████▋                      | 20kB 3.3MB/s eta 0:00:01\r\u001b[K     |██████████████▌                 | 30kB 4.1MB/s eta 0:00:01\r\u001b[K     |███████████████████▎            | 40kB 3.1MB/s eta 0:00:01\r\u001b[K     |████████████████████████▏       | 51kB 3.5MB/s eta 0:00:01\r\u001b[K     |█████████████████████████████   | 61kB 4.1MB/s eta 0:00:01\r\u001b[K     |████████████████████████████████| 71kB 3.3MB/s \n",
            "\u001b[?25hRequirement already satisfied: spacy<2.2,>=2.1 in /usr/local/lib/python3.6/dist-packages (from chatterbot) (2.1.9)\n",
            "Collecting python-dateutil<2.8,>=2.7\n",
            "\u001b[?25l  Downloading https://files.pythonhosted.org/packages/74/68/d87d9b36af36f44254a8d512cbfc48369103a3b9e474be9bdfe536abfc45/python_dateutil-2.7.5-py2.py3-none-any.whl (225kB)\n",
            "\r\u001b[K     |█▌                              | 10kB 23.8MB/s eta 0:00:01\r\u001b[K     |███                             | 20kB 26.5MB/s eta 0:00:01\r\u001b[K     |████▍                           | 30kB 32.7MB/s eta 0:00:01\r\u001b[K     |█████▉                          | 40kB 36.7MB/s eta 0:00:01\r\u001b[K     |███████▎                        | 51kB 27.7MB/s eta 0:00:01\r\u001b[K     |████████▊                       | 61kB 30.2MB/s eta 0:00:01\r\u001b[K     |██████████▏                     | 71kB 11.3MB/s eta 0:00:01\r\u001b[K     |███████████▋                    | 81kB 12.4MB/s eta 0:00:01\r\u001b[K     |█████████████                   | 92kB 13.6MB/s eta 0:00:01\r\u001b[K     |██████████████▌                 | 102kB 13.1MB/s eta 0:00:01\r\u001b[K     |████████████████                | 112kB 13.1MB/s eta 0:00:01\r\u001b[K     |█████████████████▍              | 122kB 13.1MB/s eta 0:00:01\r\u001b[K     |██████████████████▉             | 133kB 13.1MB/s eta 0:00:01\r\u001b[K     |████████████████████▎           | 143kB 13.1MB/s eta 0:00:01\r\u001b[K     |█████████████████████▉          | 153kB 13.1MB/s eta 0:00:01\r\u001b[K     |███████████████████████▎        | 163kB 13.1MB/s eta 0:00:01\r\u001b[K     |████████████████████████▊       | 174kB 13.1MB/s eta 0:00:01\r\u001b[K     |██████████████████████████▏     | 184kB 13.1MB/s eta 0:00:01\r\u001b[K     |███████████████████████████▋    | 194kB 13.1MB/s eta 0:00:01\r\u001b[K     |█████████████████████████████   | 204kB 13.1MB/s eta 0:00:01\r\u001b[K     |██████████████████████████████▌ | 215kB 13.1MB/s eta 0:00:01\r\u001b[K     |████████████████████████████████| 225kB 13.1MB/s eta 0:00:01\r\u001b[K     |████████████████████████████████| 235kB 13.1MB/s \n",
            "\u001b[?25hRequirement already satisfied: pytz in /usr/local/lib/python3.6/dist-packages (from chatterbot) (2018.9)\n",
            "Collecting pint>=0.8.1\n",
            "\u001b[?25l  Downloading https://files.pythonhosted.org/packages/90/f9/2bdadf95328c02e57a79e5370d1e911a9c6fdb9952b6c4de44d6c7052978/Pint-0.10.1-py2.py3-none-any.whl (192kB)\n",
            "\r\u001b[K     |█▊                              | 10kB 18.3MB/s eta 0:00:01\r\u001b[K     |███▍                            | 20kB 25.5MB/s eta 0:00:01\r\u001b[K     |█████▏                          | 30kB 32.5MB/s eta 0:00:01\r\u001b[K     |██████▉                         | 40kB 36.9MB/s eta 0:00:01\r\u001b[K     |████████▌                       | 51kB 29.0MB/s eta 0:00:01\r\u001b[K     |██████████▎                     | 61kB 31.1MB/s eta 0:00:01\r\u001b[K     |████████████                    | 71kB 28.6MB/s eta 0:00:01\r\u001b[K     |█████████████▋                  | 81kB 23.5MB/s eta 0:00:01\r\u001b[K     |███████████████▍                | 92kB 25.4MB/s eta 0:00:01\r\u001b[K     |█████████████████               | 102kB 22.9MB/s eta 0:00:01\r\u001b[K     |██████████████████▊             | 112kB 22.9MB/s eta 0:00:01\r\u001b[K     |████████████████████▌           | 122kB 22.9MB/s eta 0:00:01\r\u001b[K     |██████████████████████▏         | 133kB 22.9MB/s eta 0:00:01\r\u001b[K     |███████████████████████▉        | 143kB 22.9MB/s eta 0:00:01\r\u001b[K     |█████████████████████████▋      | 153kB 22.9MB/s eta 0:00:01\r\u001b[K     |███████████████████████████▎    | 163kB 22.9MB/s eta 0:00:01\r\u001b[K     |█████████████████████████████   | 174kB 22.9MB/s eta 0:00:01\r\u001b[K     |██████████████████████████████▊ | 184kB 22.9MB/s eta 0:00:01\r\u001b[K     |████████████████████████████████| 194kB 22.9MB/s \n",
            "\u001b[?25hCollecting pyyaml<5.2,>=5.1\n",
            "\u001b[?25l  Downloading https://files.pythonhosted.org/packages/e3/e8/b3212641ee2718d556df0f23f78de8303f068fe29cdaa7a91018849582fe/PyYAML-5.1.2.tar.gz (265kB)\n",
            "\r\u001b[K     |█▎                              | 10kB 23.7MB/s eta 0:00:01\r\u001b[K     |██▌                             | 20kB 31.5MB/s eta 0:00:01\r\u001b[K     |███▊                            | 30kB 37.3MB/s eta 0:00:01\r\u001b[K     |█████                           | 40kB 41.6MB/s eta 0:00:01\r\u001b[K     |██████▏                         | 51kB 29.8MB/s eta 0:00:01\r\u001b[K     |███████▍                        | 61kB 32.7MB/s eta 0:00:01\r\u001b[K     |████████▋                       | 71kB 27.1MB/s eta 0:00:01\r\u001b[K     |██████████                      | 81kB 28.5MB/s eta 0:00:01\r\u001b[K     |███████████▏                    | 92kB 30.0MB/s eta 0:00:01\r\u001b[K     |████████████▍                   | 102kB 28.2MB/s eta 0:00:01\r\u001b[K     |█████████████▋                  | 112kB 28.2MB/s eta 0:00:01\r\u001b[K     |██████████████▉                 | 122kB 28.2MB/s eta 0:00:01\r\u001b[K     |████████████████                | 133kB 28.2MB/s eta 0:00:01\r\u001b[K     |█████████████████▎              | 143kB 28.2MB/s eta 0:00:01\r\u001b[K     |██████████████████▌             | 153kB 28.2MB/s eta 0:00:01\r\u001b[K     |███████████████████▉            | 163kB 28.2MB/s eta 0:00:01\r\u001b[K     |█████████████████████           | 174kB 28.2MB/s eta 0:00:01\r\u001b[K     |██████████████████████▎         | 184kB 28.2MB/s eta 0:00:01\r\u001b[K     |███████████████████████▌        | 194kB 28.2MB/s eta 0:00:01\r\u001b[K     |████████████████████████▊       | 204kB 28.2MB/s eta 0:00:01\r\u001b[K     |██████████████████████████      | 215kB 28.2MB/s eta 0:00:01\r\u001b[K     |███████████████████████████▏    | 225kB 28.2MB/s eta 0:00:01\r\u001b[K     |████████████████████████████▍   | 235kB 28.2MB/s eta 0:00:01\r\u001b[K     |█████████████████████████████▊  | 245kB 28.2MB/s eta 0:00:01\r\u001b[K     |███████████████████████████████ | 256kB 28.2MB/s eta 0:00:01\r\u001b[K     |████████████████████████████████| 266kB 28.2MB/s \n",
            "\u001b[?25hRequirement already satisfied: pymongo<4.0,>=3.3 in /usr/local/lib/python3.6/dist-packages (from chatterbot) (3.10.0)\n",
            "Collecting sqlalchemy<1.3,>=1.2\n",
            "\u001b[?25l  Downloading https://files.pythonhosted.org/packages/f9/67/d07cf7ac7e6dd0bc55ba62816753f86d7c558107104ca915e730c9ec2512/SQLAlchemy-1.2.19.tar.gz (5.7MB)\n",
            "\u001b[K     |████████████████████████████████| 5.7MB 29.6MB/s \n",
            "\u001b[?25hCollecting mathparse<0.2,>=0.1\n",
            "  Downloading https://files.pythonhosted.org/packages/c3/e5/4910fb85950cb960fcf3f5aabe1c8e55f5c9201788a1c1302b570a7e1f84/mathparse-0.1.2-py3-none-any.whl\n",
            "Requirement already satisfied: nltk<4.0,>=3.2 in /usr/local/lib/python3.6/dist-packages (from chatterbot) (3.2.5)\n",
            "Requirement already satisfied: wasabi<1.1.0,>=0.2.0 in /usr/local/lib/python3.6/dist-packages (from spacy<2.2,>=2.1->chatterbot) (0.6.0)\n",
            "Requirement already satisfied: cymem<2.1.0,>=2.0.2 in /usr/local/lib/python3.6/dist-packages (from spacy<2.2,>=2.1->chatterbot) (2.0.3)\n",
            "Requirement already satisfied: murmurhash<1.1.0,>=0.28.0 in /usr/local/lib/python3.6/dist-packages (from spacy<2.2,>=2.1->chatterbot) (1.0.2)\n",
            "Requirement already satisfied: numpy>=1.15.0 in /usr/local/lib/python3.6/dist-packages (from spacy<2.2,>=2.1->chatterbot) (1.17.5)\n",
            "Requirement already satisfied: thinc<7.1.0,>=7.0.8 in /usr/local/lib/python3.6/dist-packages (from spacy<2.2,>=2.1->chatterbot) (7.0.8)\n",
            "Requirement already satisfied: blis<0.3.0,>=0.2.2 in /usr/local/lib/python3.6/dist-packages (from spacy<2.2,>=2.1->chatterbot) (0.2.4)\n",
            "Requirement already satisfied: plac<1.0.0,>=0.9.6 in /usr/local/lib/python3.6/dist-packages (from spacy<2.2,>=2.1->chatterbot) (0.9.6)\n",
            "Requirement already satisfied: srsly<1.1.0,>=0.0.6 in /usr/local/lib/python3.6/dist-packages (from spacy<2.2,>=2.1->chatterbot) (1.0.1)\n",
            "Requirement already satisfied: requests<3.0.0,>=2.13.0 in /usr/local/lib/python3.6/dist-packages (from spacy<2.2,>=2.1->chatterbot) (2.21.0)\n",
            "Requirement already satisfied: preshed<2.1.0,>=2.0.1 in /usr/local/lib/python3.6/dist-packages (from spacy<2.2,>=2.1->chatterbot) (2.0.1)\n",
            "Requirement already satisfied: six>=1.5 in /usr/local/lib/python3.6/dist-packages (from python-dateutil<2.8,>=2.7->chatterbot) (1.12.0)\n",
            "Requirement already satisfied: setuptools in /usr/local/lib/python3.6/dist-packages (from pint>=0.8.1->chatterbot) (42.0.2)\n",
            "Requirement already satisfied: tqdm<5.0.0,>=4.10.0 in /usr/local/lib/python3.6/dist-packages (from thinc<7.1.0,>=7.0.8->spacy<2.2,>=2.1->chatterbot) (4.28.1)\n",
            "Requirement already satisfied: idna<2.9,>=2.5 in /usr/local/lib/python3.6/dist-packages (from requests<3.0.0,>=2.13.0->spacy<2.2,>=2.1->chatterbot) (2.8)\n",
            "Requirement already satisfied: urllib3<1.25,>=1.21.1 in /usr/local/lib/python3.6/dist-packages (from requests<3.0.0,>=2.13.0->spacy<2.2,>=2.1->chatterbot) (1.24.3)\n",
            "Requirement already satisfied: chardet<3.1.0,>=3.0.2 in /usr/local/lib/python3.6/dist-packages (from requests<3.0.0,>=2.13.0->spacy<2.2,>=2.1->chatterbot) (3.0.4)\n",
            "Requirement already satisfied: certifi>=2017.4.17 in /usr/local/lib/python3.6/dist-packages (from requests<3.0.0,>=2.13.0->spacy<2.2,>=2.1->chatterbot) (2019.11.28)\n",
            "Building wheels for collected packages: pyyaml, sqlalchemy\n",
            "  Building wheel for pyyaml (setup.py) ... \u001b[?25l\u001b[?25hdone\n",
            "  Created wheel for pyyaml: filename=PyYAML-5.1.2-cp36-cp36m-linux_x86_64.whl size=44104 sha256=c331af88d03ebc63b1518258c006983187c7aba91610ddbe068bc3186d575d99\n",
            "  Stored in directory: /root/.cache/pip/wheels/d9/45/dd/65f0b38450c47cf7e5312883deb97d065e030c5cca0a365030\n",
            "  Building wheel for sqlalchemy (setup.py) ... \u001b[?25l\u001b[?25hdone\n",
            "  Created wheel for sqlalchemy: filename=SQLAlchemy-1.2.19-cp36-cp36m-linux_x86_64.whl size=1151166 sha256=5cbd294a115277255f9d8e3a51dd5deb874f757b621f61a2c48d871531569e0b\n",
            "  Stored in directory: /root/.cache/pip/wheels/2c/90/a7/3b40c6cc468abff357b38fd075429920bd0d313659d889cf8a\n",
            "Successfully built pyyaml sqlalchemy\n",
            "\u001b[31mERROR: albumentations 0.1.12 has requirement imgaug<0.2.7,>=0.2.5, but you'll have imgaug 0.2.9 which is incompatible.\u001b[0m\n",
            "Installing collected packages: python-dateutil, pint, pyyaml, sqlalchemy, mathparse, chatterbot\n",
            "  Found existing installation: python-dateutil 2.6.1\n",
            "    Uninstalling python-dateutil-2.6.1:\n",
            "      Successfully uninstalled python-dateutil-2.6.1\n",
            "  Found existing installation: PyYAML 3.13\n",
            "    Uninstalling PyYAML-3.13:\n",
            "      Successfully uninstalled PyYAML-3.13\n",
            "  Found existing installation: SQLAlchemy 1.3.12\n",
            "    Uninstalling SQLAlchemy-1.3.12:\n",
            "      Successfully uninstalled SQLAlchemy-1.3.12\n",
            "Successfully installed chatterbot-1.0.5 mathparse-0.1.2 pint-0.10.1 python-dateutil-2.7.5 pyyaml-5.1.2 sqlalchemy-1.2.19\n"
          ],
          "name": "stdout"
        },
        {
          "output_type": "display_data",
          "data": {
            "application/vnd.colab-display-data+json": {
              "pip_warning": {
                "packages": [
                  "dateutil"
                ]
              }
            }
          },
          "metadata": {
            "tags": []
          }
        }
      ]
    },
    {
      "cell_type": "code",
      "metadata": {
        "id": "qWqfdzr6lmHn",
        "colab_type": "code",
        "outputId": "49cbe0ff-8984-492b-b5dc-3cd1c2bbfa21",
        "colab": {
          "base_uri": "https://localhost:8080/",
          "height": 326
        }
      },
      "source": [
        "!pip install chatterbot_corpus"
      ],
      "execution_count": 0,
      "outputs": [
        {
          "output_type": "stream",
          "text": [
            "Collecting chatterbot_corpus\n",
            "\u001b[?25l  Downloading https://files.pythonhosted.org/packages/ed/19/f8b41daf36fe4b0f43e283a820362ffdb2c1128600ab4ee187e84262fa4d/chatterbot_corpus-1.2.0-py2.py3-none-any.whl (117kB)\n",
            "\u001b[K     |████████████████████████████████| 122kB 4.6MB/s \n",
            "\u001b[?25hCollecting PyYAML<4.0,>=3.12\n",
            "\u001b[?25l  Downloading https://files.pythonhosted.org/packages/9e/a3/1d13970c3f36777c583f136c136f804d70f500168edc1edea6daa7200769/PyYAML-3.13.tar.gz (270kB)\n",
            "\u001b[K     |████████████████████████████████| 276kB 12.6MB/s \n",
            "\u001b[?25hBuilding wheels for collected packages: PyYAML\n",
            "  Building wheel for PyYAML (setup.py) ... \u001b[?25l\u001b[?25hdone\n",
            "  Created wheel for PyYAML: filename=PyYAML-3.13-cp36-cp36m-linux_x86_64.whl size=43087 sha256=736e94fee4bc8ddd1b75a16814bb1046d407c487c233156b220d515b2d669de6\n",
            "  Stored in directory: /root/.cache/pip/wheels/ad/da/0c/74eb680767247273e2cf2723482cb9c924fe70af57c334513f\n",
            "Successfully built PyYAML\n",
            "\u001b[31mERROR: chatterbot 1.0.5 has requirement pyyaml<5.2,>=5.1, but you'll have pyyaml 3.13 which is incompatible.\u001b[0m\n",
            "Installing collected packages: PyYAML, chatterbot-corpus\n",
            "  Found existing installation: PyYAML 5.1.2\n",
            "    Uninstalling PyYAML-5.1.2:\n",
            "      Successfully uninstalled PyYAML-5.1.2\n",
            "Successfully installed PyYAML-3.13 chatterbot-corpus-1.2.0\n"
          ],
          "name": "stdout"
        }
      ]
    },
    {
      "cell_type": "code",
      "metadata": {
        "id": "9bDdBGIClsW1",
        "colab_type": "code",
        "outputId": "be24e600-94f7-40b0-ac57-3a5e5dedc271",
        "colab": {
          "base_uri": "https://localhost:8080/",
          "height": 153
        }
      },
      "source": [
        "from chatterbot import ChatBot\n",
        "from chatterbot.trainers import ListTrainer\n",
        "\n",
        "\n",
        "chatbot = ChatBot(\"MyBot\")\n",
        "\n",
        "conversation = [\n",
        "    \"Good morning\",\n",
        "    \"Hi there!\",\n",
        "    \"How are you doing?\",\n",
        "    \"I'm doing great.\",\n",
        "    \"That is good to hear\",\n",
        "    \"Thank you.\",\n",
        "    \"You're welcome.\"\n",
        "    \"What is your name\",\n",
        "    \"My name is Bot\"\n",
        "]\n",
        "\n",
        "trainer = ListTrainer(chatbot)\n",
        "trainer.train(conversation)\n",
        "\n",
        "response = chatbot.get_response(\"what is your name ?\")\n",
        "print(response)\n"
      ],
      "execution_count": 0,
      "outputs": [
        {
          "output_type": "stream",
          "text": [
            "[nltk_data] Downloading package stopwords to /root/nltk_data...\n",
            "[nltk_data]   Package stopwords is already up-to-date!\n",
            "[nltk_data] Downloading package averaged_perceptron_tagger to\n",
            "[nltk_data]     /root/nltk_data...\n",
            "[nltk_data]   Package averaged_perceptron_tagger is already up-to-\n",
            "[nltk_data]       date!\n",
            "List Trainer: [####################] 100%\n",
            "Good morning\n"
          ],
          "name": "stdout"
        }
      ]
    },
    {
      "cell_type": "code",
      "metadata": {
        "id": "-G_G6X5Hmcio",
        "colab_type": "code",
        "outputId": "0a8e79f0-4408-4b6e-ff23-6d8aa9693e7b",
        "colab": {
          "base_uri": "https://localhost:8080/",
          "height": 155
        }
      },
      "source": [
        "print(\"talk to bot\")\n",
        "while True:\n",
        "  query=input()\n",
        "  if query=='exit':\n",
        "    break\n",
        "  response = chatbot.get_response(query)\n",
        "  print(response)\n",
        "  "
      ],
      "execution_count": 0,
      "outputs": [
        {
          "output_type": "stream",
          "text": [
            "talk to bot\n",
            "hii\n",
            "I'm doing great.\n",
            "how are you\n",
            "I'm doing great.\n",
            "what is your name\n",
            "I'm doing great.\n"
          ],
          "name": "stdout"
        }
      ]
    },
    {
      "cell_type": "code",
      "metadata": {
        "id": "2RggxHXd4rZB",
        "colab_type": "code",
        "colab": {}
      },
      "source": [
        "from tkinter import *\n",
        "#import PhotoImage\n",
        "\n",
        "#create main window\n",
        "\n",
        "\n",
        "master = Tk()\n",
        "def ask(query):\n",
        "    print(\"hello\")\n",
        "\n",
        "master.title(\"ChatBot\")\n",
        "master.geometry(\"500x650\")\n",
        "img=PhotoImage(file=\"logo.png\")\n",
        "photo=Label(master, image=img)\n",
        "photo.pack(pady=5)\n",
        "frame=Frame(master)\n",
        "sc=Scrollbar(frame)\n",
        "msg=Listbox(frame, width=80, height=20)\n",
        "sc.pack(side=RIGHT, fill=Y)\n",
        "msg.pack(side=LEFT, fill=BOTH, pady=10)\n",
        "frame.pack()\n",
        "textF=Entry(master, font=(\"Verdana\", 20))\n",
        "textF.pack(pady=10)\n",
        "button =Button(master,\n",
        "                   text=\"ASK\",\n",
        "                   fg=\"red\",\n",
        "                   command=ask)\n",
        "button.pack()\n",
        "# Run forever!\n",
        "master.mainloop()"
      ],
      "execution_count": 0,
      "outputs": []
    },
    {
      "cell_type": "code",
      "metadata": {
        "id": "oq7JrOy64xAt",
        "colab_type": "code",
        "colab": {}
      },
      "source": [
        "def ask(query):\n",
        "    query=textF.get()\n",
        "    answer=chatbot.get_response(query)\n",
        "    msg.insert(END, \"you :\" +query)\n",
        "    msg.insert(END, \"bot :\" + answer)\n",
        "    textF.delete(0,END)"
      ],
      "execution_count": 0,
      "outputs": []
    }
  ]
}